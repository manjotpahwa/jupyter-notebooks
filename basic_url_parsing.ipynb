{
 "cells": [
  {
   "cell_type": "code",
   "execution_count": 2,
   "metadata": {},
   "outputs": [
    {
     "name": "stdout",
     "output_type": "stream",
     "text": [
      " Hilarious (11)\n",
      " Caring (9)\n",
      " Accessible outside class (8)\n",
      " Amazing lectures (5)\n",
      " Clear grading criteria (4)\n",
      " Inspirational (4)\n",
      " Group projects (3)\n",
      " Respected (3)\n",
      " Gives good feedback (2)\n",
      " EXTRA CREDIT (2)\n",
      " Participation matters (1)\n",
      " Lecture heavy (1)\n",
      " Test heavy (1)\n",
      " So many papers (1)\n"
     ]
    }
   ],
   "source": [
    "import requests\n",
    "from bs4 import BeautifulSoup\n",
    "\n",
    "url = 'https://www.ratemyprofessors.com/ShowRatings.jsp?tid=1986099'\n",
    "\n",
    "page = requests.get(url)\n",
    "# Parse raw HTML data to digestible format.\n",
    "soup = BeautifulSoup(page.text, \"html.parser\")\n",
    "\n",
    "# Pick data related to the tags that have been set for profs.\n",
    "prof_tags = soup.findAll(\"span\", {\"class\": \"tag-box-choosetags\"})\n",
    "\n",
    "for tag in prof_tags:\n",
    "    print(tag.get_text())\n",
    "\n"
   ]
  },
  {
   "cell_type": "code",
   "execution_count": null,
   "metadata": {},
   "outputs": [],
   "source": []
  }
 ],
 "metadata": {
  "kernelspec": {
   "display_name": "Python 2",
   "language": "python",
   "name": "python2"
  },
  "language_info": {
   "codemirror_mode": {
    "name": "ipython",
    "version": 2
   },
   "file_extension": ".py",
   "mimetype": "text/x-python",
   "name": "python",
   "nbconvert_exporter": "python",
   "pygments_lexer": "ipython2",
   "version": "2.7.10"
  }
 },
 "nbformat": 4,
 "nbformat_minor": 2
}
