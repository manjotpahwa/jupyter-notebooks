{
 "cells": [
  {
   "cell_type": "code",
   "execution_count": null,
   "metadata": {},
   "outputs": [],
   "source": [
    "import jovian\n",
    "\n",
    "import pandas as pd\n",
    "import matplotlib.pyplot as plt\n",
    "import seaborn as sns\n",
    "\n",
    "sns.set(style=\"darkgrid\")\n",
    "\n",
    "df = pd.read_csv('fortune500.csv')\n",
    "\n",
    "df.columns = ['year', 'rank', 'company', 'revenue', 'profit']\n",
    "non_numeric_profits = df.profit.str.contains('[^0-9.-]')\n",
    "\n",
    "# Removing the non numeric values from our dataset.\n",
    "df = df.loc[~non_numeric_profits]\n",
    "df.profit = df.profit.apply(pd.to_numeric)\n",
    "df.head()\n",
    "df.tail()\n",
    "\n",
    "profit_grouped_by_year = df.loc[:, ['year', 'revenue', 'profit']].groupby('year')\n",
    "\n",
    "avgs = profit_grouped_by_year.mean()\n",
    "x = avgs.index\n",
    "y = avgs.profit\n",
    "\n",
    "def plot(x, y, ax, title, y_label):\n",
    "    ax.set_title(title)\n",
    "    ax.set_ylabel(y_label)\n",
    "    ax.plot(x, y)\n",
    "    ax.margins(x=0, y=0)\n",
    "    \n",
    "fig, ax = plt.subplots()\n",
    "plot(x, y, ax, 'Increase in mean Fortune 500 company profits from 1955 to 2005', 'Profit (millions)')\n",
    "\n",
    "jovian.commit()"
   ]
  },
  {
   "cell_type": "code",
   "execution_count": null,
   "metadata": {},
   "outputs": [],
   "source": []
  },
  {
   "cell_type": "code",
   "execution_count": null,
   "metadata": {},
   "outputs": [],
   "source": []
  }
 ],
 "metadata": {
  "kernelspec": {
   "display_name": "Python 2",
   "language": "python",
   "name": "python2"
  },
  "language_info": {
   "codemirror_mode": {
    "name": "ipython",
    "version": 2
   },
   "file_extension": ".py",
   "mimetype": "text/x-python",
   "name": "python",
   "nbconvert_exporter": "python",
   "pygments_lexer": "ipython2",
   "version": "2.7.10"
  }
 },
 "nbformat": 4,
 "nbformat_minor": 2
}
